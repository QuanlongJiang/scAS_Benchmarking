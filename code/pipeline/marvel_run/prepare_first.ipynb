{
 "cells": [
  {
   "cell_type": "code",
   "execution_count": 3,
   "id": "1344b5bc",
   "metadata": {},
   "outputs": [],
   "source": [
    "import pandas as pd\n",
    "import scipy.io\n",
    "import numpy as np"
   ]
  },
  {
   "cell_type": "code",
   "execution_count": 11,
   "id": "50a0542f",
   "metadata": {},
   "outputs": [],
   "source": [
    "in_dir = 'result/dataset1/StarSolo_mapping/dataset1_StarSolo_mapping/SJ/raw/'\n",
    "\n",
    "barcodes = pd.read_csv('{}/barcodes.tsv'.format(in_dir), header=None, sep='\\t')\n",
    "barcodes = barcodes[0].tolist()  # 转换为列表\n",
    "\n",
    "features = pd.read_csv('{}/features.tsv'.format(in_dir), header=None, sep='\\t')\n",
    "features['coord.intron'] = features[0].astype(str) + ':' + features[1].astype(str) + ':' + features[2].astype(str)\n",
    "\n",
    "matrix = scipy.io.mmread('{}/matrix.mtx'.format(in_dir)).tocsc()  # 读取稀疏矩阵\n",
    "expression_matrix = pd.DataFrame(matrix.toarray(), index=features['coord.intron'], columns=barcodes).replace(0, np.nan)\n",
    "\n",
    "min_cell = 5\n",
    "non_missing_count = expression_matrix.notnull().sum(axis=1)\n",
    "filtered_expression_matrix = expression_matrix[non_missing_count >= min_cell]\n",
    "filtered_expression_matrix.to_csv('result/marvel/dataset1/SJ.txt',sep='\\t',)"
   ]
  },
  {
   "cell_type": "code",
   "execution_count": 17,
   "id": "ebee5702",
   "metadata": {},
   "outputs": [],
   "source": [
    "def prepare_meta(f='dataset1/srr_2_cell_type.txt'):\n",
    "    df = pd.read_table(f,index_col=0,header=0)\n",
    "    meta = df[['cell_id','cell_type']].copy()\n",
    "    meta.columns = ['sample.id','cell.type']\n",
    "    meta['sample.type'] = 'Single Cell'; meta['qc.seq'] = 'pass'\n",
    "    meta.to_csv('result/marvel/dataset1_SJ_phenoData.txt',index=False,sep='\\t')\n",
    "    \n",
    "prepare_meta()"
   ]
  },
  {
   "cell_type": "code",
   "execution_count": 35,
   "id": "64fa9e0a",
   "metadata": {},
   "outputs": [],
   "source": [
    "bam_solo = 'result/dataset1/StarSolo_mapping/dataset1_Aligned.out.bam'\n",
    "bam_1_cell = 'result/dataset1/mapping/sample1/sample1_Aligned.out.bam'\n",
    "def prepare_rmats():\n",
    "    with open('result/marvel/dataset1/rMATS_out//path_to_BAM_sample_1.txt','w') as o:\n",
    "        o.write(bam_solo+',\\n')\n",
    "    with open('result/marvel/dataset1/rMATS_out//path_to_BAM_sample_2.txt','w') as o:\n",
    "        o.write(bam_1_cell+',\\n')\n",
    "        \n",
    "prepare_rmats()"
   ]
  },
  {
   "cell_type": "code",
   "execution_count": 10,
   "id": "0c80237c",
   "metadata": {},
   "outputs": [],
   "source": [
    "def prepare_bed_file(file_path):\n",
    "    # Read the file as a tab-separated CSV with header\n",
    "    df = pd.read_csv(file_path, sep=\"\\t\", header=0)\n",
    "    \n",
    "    # Remove the \"X\" prefix from column names if present\n",
    "    df.columns = df.columns.str.replace(\"^X\", \"\", regex=True)\n",
    "    \n",
    "    # Extract data for the positive strand (\"+\")\n",
    "    df_pos = df[df['strand'] == \"+\"].copy()\n",
    "    \n",
    "    # Select columns: chr, upstreamEE, and downstreamES for positive strand\n",
    "    df_pos = df_pos[['chr', 'upstreamEE', 'downstreamES']]\n",
    "    \n",
    "    # Extract data for the negative strand (\"-\")\n",
    "    df_neg = df[df['strand'] == \"-\"].copy()\n",
    "    \n",
    "    # Select columns: chr, upstreamEE, and downstreamES for negative strand\n",
    "    df_neg = df_neg[['chr', 'upstreamEE', 'downstreamES']]\n",
    "    \n",
    "    # Combine positive and negative strand dataframes\n",
    "    df = pd.concat([df_pos, df_neg], ignore_index=True)\n",
    "    \n",
    "    # Define chromosome sorting order (chr1 to chr22, then chrX)\n",
    "    chr_order = [f\"chr{i}\" for i in range(1, 23)] + [\"chrX\"]\n",
    "    df['chr'] = pd.Categorical(df['chr'], categories=chr_order, ordered=True)\n",
    "    \n",
    "    # Sort dataframe by chromosome and upstreamEE position\n",
    "    df = df.sort_values(by=['chr', 'upstreamEE']).reset_index(drop=True)\n",
    "    \n",
    "    # Check if downstreamES is greater than upstreamEE for all rows\n",
    "    if not all(df['downstreamES'] > df['upstreamEE']):\n",
    "        print(\"Warning: Some downstreamES values are not greater than upstreamEE.\")\n",
    "    \n",
    "    # Remove duplicate rows and drop rows with missing values\n",
    "    df = df.drop_duplicates()\n",
    "    df = df.dropna()\n",
    "    \n",
    "    return df"
   ]
  },
  {
   "cell_type": "code",
   "execution_count": 4,
   "id": "29abd3e7",
   "metadata": {},
   "outputs": [],
   "source": [
    "file_path = \"result/marvel/dataset1/rMATS_out/fromGTF.RI.txt\"\n",
    "df = prepare_bed_file(file_path)\n",
    "df.to_csv('result/marvel/dataset1/RI_Coordinates.bed',sep='\\t',index=False)"
   ]
  }
 ],
 "metadata": {
  "kernelspec": {
   "display_name": "Python 3 (ipykernel)",
   "language": "python",
   "name": "python3"
  },
  "language_info": {
   "codemirror_mode": {
    "name": "ipython",
    "version": 3
   },
   "file_extension": ".py",
   "mimetype": "text/x-python",
   "name": "python",
   "nbconvert_exporter": "python",
   "pygments_lexer": "ipython3",
   "version": "3.9.19"
  }
 },
 "nbformat": 4,
 "nbformat_minor": 5
}
