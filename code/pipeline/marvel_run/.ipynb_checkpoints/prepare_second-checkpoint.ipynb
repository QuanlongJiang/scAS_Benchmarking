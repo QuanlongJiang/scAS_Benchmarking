{
 "cells": [
  {
   "cell_type": "code",
   "execution_count": null,
   "id": "5edc7de1",
   "metadata": {
    "scrolled": true
   },
   "outputs": [
    {
     "name": "stderr",
     "output_type": "stream",
     "text": [
      "载入需要的程序包：ggplot2\n",
      "\n",
      "Welcome! Want to learn more? See two factoextra-related books at https://goo.gl/ve3WBa\n",
      "\n",
      "载入需要的程序包：MASS\n",
      "\n",
      "载入需要的程序包：survival\n",
      "\n",
      "载入需要的程序包：SuppDists\n",
      "\n",
      "载入需要的程序包：stats4\n",
      "\n",
      "载入需要的程序包：BiocGenerics\n",
      "\n",
      "\n",
      "载入程序包：‘BiocGenerics’\n",
      "\n",
      "\n"
     ]
    }
   ],
   "source": [
    "# Load MARVEL package\n",
    "library(MARVEL)\n",
    "\n",
    "# Load adjunct packages for selected MARVEL features\n",
    "  # General data processing, plotting\n",
    "  library(ggnewscale)\n",
    "  library(ggrepel)\n",
    "  library(parallel)\n",
    "  library(reshape2)\n",
    "  library(stringr)\n",
    "  library(textclean)\n",
    "\n",
    "  # Dimension reduction analysis\n",
    "  library(factoextra)\n",
    "  library(FactoMineR)\n",
    "\n",
    "  # Modality analysis\n",
    "  library(fitdistrplus)\n",
    "\n",
    "  # Differential splicing analysis\n",
    "  library(kSamples)\n",
    "  library(twosamples)\n",
    "\n",
    "  # Gene ontology analysis\n",
    "  library(AnnotationDbi)\n",
    "  library(clusterProfiler)\n",
    "  library(org.Hs.eg.db)\n",
    "  library(org.Mm.eg.db)\n",
    "\n",
    "  # Nonsense-mediated decay (NMD) analysis\n",
    "  library(Biostrings)\n",
    "  library(BSgenome)\n",
    "  library(BSgenome.Hsapiens.NCBI.GRCh38)\n",
    "\n",
    "# Load adjunct packages for this tutorial\n",
    "library(data.table)\n",
    "library(ggplot2)\n",
    "library(gridExtra)"
   ]
  },
  {
   "cell_type": "code",
   "execution_count": null,
   "id": "8fe460ed",
   "metadata": {},
   "outputs": [],
   "source": [
    "path <- \"result/marvel/dataset1/\"\n",
    "file <- \"SJ.txt\"\n",
    "sj <- as.data.frame(fread(paste(path, file, sep=\"\"), sep=\"\\t\", header=TRUE, stringsAsFactors=FALSE, na.strings=\"NA\"))"
   ]
  },
  {
   "cell_type": "code",
   "execution_count": null,
   "id": "66097067",
   "metadata": {},
   "outputs": [],
   "source": [
    "path <- \"result/marvel/dataset1/\"\n",
    "file <- \"SJ_phenoData.txt\"\n",
    "df.pheno <- read.table(paste(path, file, sep=\"\"), sep=\"\\t\", header=TRUE, stringsAsFactors=FALSE, na.strings=\"NA\")"
   ]
  },
  {
   "cell_type": "code",
   "execution_count": null,
   "id": "0014e93d",
   "metadata": {},
   "outputs": [],
   "source": [
    "path <- \"genome/gencode.v31/gencode.v31/\"\n",
    "file <- \"gencode.v31.annotation.gtf\"\n",
    "gtf <- as.data.frame(data.table::fread(paste(path, file, sep=\"\"), sep=\"\\t\", header=FALSE, stringsAsFactors=FALSE, quote=\"\"))"
   ]
  },
  {
   "cell_type": "code",
   "execution_count": null,
   "id": "a64a3fbb",
   "metadata": {},
   "outputs": [],
   "source": [
    "path <- \"./rMATS_out/\"\n",
    "file <- \"fromGTF.SE.txt\"\n",
    "df <- read.table(paste(path, file, sep=\"\"), sep=\"\\t\", header=TRUE, stringsAsFactors=FALSE)\n",
    "df.feature.se <- Preprocess_rMATS(file=df, GTF=gtf, EventType=\"SE\")\n",
    "\n",
    "path <- \"./rMATS_out/\"\n",
    "file <- \"fromGTF.MXE.txt\"\n",
    "df <- read.table(paste(path, file, sep=\"\"), sep=\"\\t\", header=TRUE, stringsAsFactors=FALSE)\n",
    "df.feature.mxe <- Preprocess_rMATS(file=df, GTF=gtf, EventType=\"MXE\")\n",
    "\n",
    "path <- \"./rMATS_out/\"\n",
    "file <- \"fromGTF.RI.txt\"\n",
    "df <- read.table(paste(path, file, sep=\"\"), sep=\"\\t\", header=TRUE, stringsAsFactors=FALSE)\n",
    "df.feature.ri <- Preprocess_rMATS(file=df, GTF=gtf, EventType=\"RI\")\n",
    "\n",
    "path <- \"./rMATS_out/\"\n",
    "file <- \"fromGTF.A5SS.txt\"\n",
    "df <- read.table(paste(path, file, sep=\"\"), sep=\"\\t\", header=TRUE, stringsAsFactors=FALSE)\n",
    "df.feature.a5ss <- Preprocess_rMATS(file=df, GTF=gtf, EventType=\"A5SS\")\n",
    "\n",
    "path <- \"./rMATS_out/\"\n",
    "file <- \"fromGTF.A3SS.txt\"\n",
    "df <- read.table(paste(path, file, sep=\"\"), sep=\"\\t\", header=TRUE, stringsAsFactors=FALSE)\n",
    "df.feature.a3ss <- Preprocess_rMATS(file=df, GTF=gtf, EventType=\"A3SS\")"
   ]
  },
  {
   "cell_type": "code",
   "execution_count": null,
   "id": "fc177be6",
   "metadata": {},
   "outputs": [],
   "source": [
    "df.feature.list <- list(df.feature.se, df.feature.mxe, df.feature.ri, df.feature.a5ss, df.feature.a3ss)\n",
    "names(df.feature.list) <- c(\"SE\", \"MXE\", \"RI\", \"A5SS\", \"A3SS\")"
   ]
  },
  {
   "cell_type": "code",
   "execution_count": null,
   "id": "2d75e5fd",
   "metadata": {},
   "outputs": [],
   "source": [
    "path <- \"./\"\n",
    "file <- \"Counts_by_Region.txt\"\n",
    "df.intron.counts <- as.data.frame(fread(paste(path, file, sep=\"\"), sep=\"\\t\", header=TRUE, stringsAsFactors=FALSE, na.strings=\"NA\"))\n",
    "df.intron.counts[1:5,1:5]"
   ]
  },
  {
   "cell_type": "code",
   "execution_count": 13,
   "id": "2fbc32fc",
   "metadata": {},
   "outputs": [],
   "source": [
    "path <- \"/disk1/humanData/131_GSE81252_253GB/StarSolo_mapping/test_StarSolo_mapping/Gene/\"\n",
    "file <- \"tpm_matrix.tab\"\n",
    "df.tpm <- read.table(paste(path, file, sep=\"\"), sep=\"\\t\", header=TRUE, stringsAsFactors=FALSE)"
   ]
  },
  {
   "cell_type": "code",
   "execution_count": 15,
   "id": "5af24d89",
   "metadata": {},
   "outputs": [],
   "source": [
    "path <- \"/disk1/humanData/131_GSE81252_253GB/StarSolo_mapping/test_StarSolo_mapping/Gene/\"\n",
    "file <- \"TPM_featureData.txt\"\n",
    "df.tpm.feature <- read.table(paste(path, file, sep=\"\"), sep=\"\\t\", header=TRUE, stringsAsFactors=FALSE)"
   ]
  },
  {
   "cell_type": "code",
   "execution_count": 17,
   "id": "b410ccfd",
   "metadata": {},
   "outputs": [],
   "source": [
    "path <- \"genome/gencode.v31/\"\n",
    "file <- \"gencode.v31.annotation.gtf\"\n",
    "gtf <- as.data.frame(fread(paste(path, file, sep=\"\"), sep=\"\\t\", header=FALSE, stringsAsFactors=FALSE, na.strings=\"NA\", quote=\"\\\"\"))"
   ]
  },
  {
   "cell_type": "code",
   "execution_count": 18,
   "id": "31d326bb",
   "metadata": {},
   "outputs": [],
   "source": [
    "marvel <- CreateMarvelObject(SpliceJunction=sj,\n",
    "                             SplicePheno=df.pheno,\n",
    "                             SpliceFeature=df.feature.list,\n",
    "                             IntronCounts=df.intron.counts,\n",
    "                             GeneFeature=df.tpm.feature,\n",
    "                             Exp=df.tpm,\n",
    "                             GTF=gtf\n",
    "                             )"
   ]
  },
  {
   "cell_type": "code",
   "execution_count": 17,
   "id": "2d8617c7",
   "metadata": {
    "collapsed": true
   },
   "outputs": [
    {
     "name": "stderr",
     "output_type": "stream",
     "text": [
      "Parsing GTF...\n",
      "\n",
      "Analysing +ve strand...\n",
      "\n",
      "Retrieving expressed genes...\n",
      "\n",
      "12359 expressed genes identified\n",
      "\n",
      "Retrieving final exon-exon junctions from 50572 multi-exon transcripts\n",
      "\n",
      "Collapsing redundant coordinates/exons...\n",
      "\n",
      "2080 AFE identified\n",
      "\n",
      "Analysing -ve strand...\n",
      "\n",
      "Retrieving gene metadata from GTF...\n",
      "\n",
      "Retrieving expressed genes...\n",
      "\n",
      "12099 expressed genes identified\n",
      "\n",
      "Retrieving final exon-exon junctions from 49028 multi-exon transcripts\n",
      "\n",
      "Collapsing redundant coordinates/exons...\n",
      "\n",
      "2079 AFE identified\n",
      "\n"
     ]
    }
   ],
   "source": [
    "# Detect AFE\n",
    "marvel <- DetectEvents(MarvelObject=marvel,\n",
    "                       min.cells=10,\n",
    "                       min.expr=1,\n",
    "                       track.progress=FALSE,\n",
    "                       EventType=\"AFE\"\n",
    "                       )"
   ]
  },
  {
   "cell_type": "code",
   "execution_count": 18,
   "id": "4d1d7fb1",
   "metadata": {
    "collapsed": true
   },
   "outputs": [
    {
     "name": "stderr",
     "output_type": "stream",
     "text": [
      "Parsing GTF...\n",
      "\n",
      "Analysing +ve strand...\n",
      "\n",
      "Retrieving gene metadata from GTF...\n",
      "\n",
      "Retrieving expressed genes...\n",
      "\n",
      "8250 expressed genes identified\n",
      "\n",
      "Retrieving final exon-exon junctions from 44658 multi-exon transcripts\n",
      "\n",
      "Collapsing redundant coordinates/exons...\n",
      "\n",
      "813 ALE identified\n",
      "\n",
      "Analysing -ve strand...\n",
      "\n",
      "Retrieving expressed genes...\n",
      "\n",
      "8050 expressed genes identified\n",
      "\n",
      "Retrieving final exon-exon junctions from 43005 multi-exon transcripts\n",
      "\n",
      "Collapsing redundant coordinates/exons...\n",
      "\n",
      "826 ALE identified\n",
      "\n"
     ]
    }
   ],
   "source": [
    "# Detect ALE\n",
    "marvel <- DetectEvents(MarvelObject=marvel,\n",
    "                       min.cells=50,\n",
    "                       min.expr=1,\n",
    "                       track.progress=FALSE,\n",
    "                       EventType=\"ALE\"\n",
    "                       )"
   ]
  },
  {
   "cell_type": "code",
   "execution_count": 19,
   "id": "9fa2be7e",
   "metadata": {
    "collapsed": true
   },
   "outputs": [
    {
     "name": "stderr",
     "output_type": "stream",
     "text": [
      "765 samples (cells) identified in SJ phenoData\n",
      "\n",
      "765 samples (cells) identified in SJ count matrix\n",
      "\n",
      "765 overlapping samples (cells) identified\n",
      "\n",
      "sample IDs in sample metadata and SJ count matrix column names MATCHED\n",
      "\n",
      "Additional checks for intron count matrix...\n",
      "\n",
      "765 samples (cells) identified in SJ phenoData\n",
      "\n",
      "770 samples (cells) identified in intron count matrix\n",
      "\n",
      "0 overlapping samples (cells) identified\n",
      "\n",
      "sample IDs in sample metadata and SJ count matrix and intron count matrix column names NOT MATCHED\n",
      "\n"
     ]
    }
   ],
   "source": [
    "marvel <- CheckAlignment(MarvelObject=marvel, level=\"SJ\")"
   ]
  },
  {
   "cell_type": "code",
   "execution_count": 19,
   "id": "c8656dae",
   "metadata": {},
   "outputs": [
    {
     "name": "stderr",
     "output_type": "stream",
     "text": [
      "97655 splicing events found\n",
      "\n",
      "25361 splicing events validated and quantified\n",
      "\n"
     ]
    }
   ],
   "source": [
    "marvel <- ComputePSI(MarvelObject=marvel,\n",
    "                     CoverageThreshold=20,\n",
    "                     UnevenCoverageMultiplier=10,\n",
    "                     EventType=\"SE\"\n",
    "                     )"
   ]
  },
  {
   "cell_type": "code",
   "execution_count": 1,
   "id": "b12e73b8",
   "metadata": {
    "ExecuteTime": {
     "end_time": "2025-08-12T06:22:30.406749Z",
     "start_time": "2025-08-12T06:13:08.002Z"
    }
   },
   "outputs": [],
   "source": [
    "# Validate, filter, compute RI splicing events      \n",
    "marvel <- ComputePSI(MarvelObject=marvel,\n",
    "                     CoverageThreshold=20,\n",
    "                     EventType=\"RI\",\n",
    "                     thread=10\n",
    "                     )"
   ]
  },
  {
   "cell_type": "code",
   "execution_count": null,
   "id": "4e04ff3c",
   "metadata": {},
   "outputs": [],
   "source": [
    "marvel <- ComputePSI(MarvelObject=marvel,\n",
    "                     CoverageThreshold=20,\n",
    "                     UnevenCoverageMultiplier=10,\n",
    "                     EventType=\"MXE\"\n",
    "                     )\n",
    "# Validate, filter, compute A5SS splicing events  \n",
    "marvel <- ComputePSI(MarvelObject=marvel,\n",
    "                     CoverageThreshold=20,\n",
    "                     EventType=\"A5SS\"\n",
    "                     )\n",
    "\n",
    "# Validate, filter, compute A3SS splicing events  \n",
    "marvel <- ComputePSI(MarvelObject=marvel,\n",
    "                     CoverageThreshold=20,\n",
    "                     EventType=\"A3SS\"\n",
    "                     )\n",
    "\n",
    "# Validate, filter, compute AFE splicing events     \n",
    "marvel <- ComputePSI(MarvelObject=marvel,\n",
    "                     CoverageThreshold=20,\n",
    "                     EventType=\"AFE\"\n",
    "                     )\n",
    "    \n",
    "# Validate, filter, compute ALE splicing events      \n",
    "marvel <- ComputePSI(MarvelObject=marvel,\n",
    "                     CoverageThreshold=20,\n",
    "                     EventType=\"ALE\"\n",
    "                     )"
   ]
  },
  {
   "cell_type": "code",
   "execution_count": 20,
   "id": "a7c109a3",
   "metadata": {},
   "outputs": [
    {
     "name": "stderr",
     "output_type": "stream",
     "text": [
      "765 samples (cells) identified in sample metadata\n",
      "\n",
      "765 samples (cells) identified in sample metadata\n",
      "\n",
      "765 samples (cells) identified in matrix(s) \n",
      "\n",
      "765 overlapping samples (cells) retained\n",
      "\n",
      "Checking alignment...\n",
      "\n",
      "sample IDs in sample metadata and matrix column names MATCHED for SE\n",
      "\n",
      "Checking for SE...\n",
      "\n",
      "25361 transcripts identified in transcript metadata\n",
      "\n",
      "25361 transcripts identified in matrix\n",
      "\n",
      "25361 overlapping transcripts retained\n",
      "\n",
      "Checking alignment...\n",
      "\n",
      "Transcript IDs in transcript metadata and matrix row names MATCHED for SE\n",
      "\n"
     ]
    }
   ],
   "source": [
    "marvel <- CheckAlignment(MarvelObject=marvel, level=\"splicing\")\n"
   ]
  },
  {
   "cell_type": "code",
   "execution_count": 21,
   "id": "abfb5f44",
   "metadata": {},
   "outputs": [],
   "source": [
    "df.pheno <- marvel$SplicePheno"
   ]
  },
  {
   "cell_type": "code",
   "execution_count": 2,
   "id": "43e85956",
   "metadata": {
    "ExecuteTime": {
     "end_time": "2025-08-12T06:23:07.634991Z",
     "start_time": "2025-08-12T06:13:45.257Z"
    },
    "scrolled": false
   },
   "outputs": [],
   "source": [
    "marvel <- CountEvents(MarvelObject=marvel,\n",
    "                      sample.ids=df.pheno$sample.id,\n",
    "                      min.cells=10\n",
    "                      )"
   ]
  },
  {
   "cell_type": "code",
   "execution_count": 37,
   "id": "81340c6a",
   "metadata": {},
   "outputs": [],
   "source": [
    "write.table(t(marvel$PSI$SE), \"../result/marvel/dataset1/mat.txt\",sep='\\t', row.names = TRUE,col.names=FALSE,quote = FALSE)"
   ]
  },
  {
   "cell_type": "code",
   "execution_count": 23,
   "id": "3170b625",
   "metadata": {},
   "outputs": [],
   "source": [
    "save(marvel, file=\"../result/marvel/dataset1/SE.RData\")"
   ]
  }
 ],
 "metadata": {
  "kernelspec": {
   "display_name": "R",
   "language": "R",
   "name": "ir"
  },
  "language_info": {
   "codemirror_mode": "r",
   "file_extension": ".r",
   "mimetype": "text/x-r-source",
   "name": "R",
   "pygments_lexer": "r",
   "version": "4.4.1"
  }
 },
 "nbformat": 4,
 "nbformat_minor": 5
}
