{
 "cells": [
  {
   "cell_type": "code",
   "execution_count": 1,
   "id": "f9bbc06d",
   "metadata": {},
   "outputs": [],
   "source": [
    "import glob,os\n",
    "import gzip\n",
    "\n",
    "import pandas as pd\n",
    "import numpy as np\n",
    "import matplotlib.pyplot as plt\n",
    "from matplotlib import font_manager\n",
    "plt.switch_backend('agg')\n",
    "import seaborn as sns\n",
    "sns.set_style( \"white\" )\n",
    "\n",
    "import seaborn as sns\n",
    "import matplotlib.pyplot as plt\n",
    "from matplotlib import font_manager\n",
    "from matplotlib import font_manager\n",
    "from matplotlib.colors import LinearSegmentedColormap\n",
    "\n",
    "font_dirs = ['/home/jiangquanlong/miniconda3/envs/r_env/lib/python3.12/site-packages/matplotlib/mpl-data/fonts/ttf']\n",
    "font_files = font_manager.findSystemFonts(fontpaths=font_dirs)\n",
    "for font_file in font_files:\n",
    "    font_manager.fontManager.addfont(font_file)\n",
    "\n",
    "plt.rcParams['font.family'] = 'sans-serif'\n",
    "plt.rcParams['font.sans-serif'] = ['Arial']  \n",
    "plt.rcParams['pdf.fonttype'] = 42"
   ]
  },
  {
   "cell_type": "code",
   "execution_count": 2,
   "id": "5cc4aedb",
   "metadata": {},
   "outputs": [],
   "source": [
    "def get_sc(fname):\n",
    "    #f = 'Motor_neurons_vs_Induced_pluripotent_cells.ad.csv'\n",
    "    df = pd.read_csv(fname,header=0)\n",
    "    df['SE_pos'] = df['tran_id'].apply(lambda x: '_'.join(x.split('@')[1].split(':')[:3]))\n",
    "    df['5end_3end'] = df['tran_id'].apply(lambda x: '_'.join([x.split(':')[0],x.split(':')[2],x.split(':')[-2]]))\n",
    "    df = df.sort_values(by='p.val.adj')\n",
    "    df.index = df['SE_pos']\n",
    "    return df[['SE_pos','5end_3end','p.val.adj']]"
   ]
  },
  {
   "cell_type": "code",
   "execution_count": 3,
   "id": "5b88fbd1",
   "metadata": {},
   "outputs": [],
   "source": [
    "def get_rmats(fname):\n",
    "    df = pd.read_table(fname, header=0)\n",
    "    df['3end'] = df['chr'].astype(str) + '_' + df['downstreamES'].astype(str)\n",
    "    df['SE_pos'] = df['chr'].astype(str) + '_' + df['exonStart_0base'].astype(str) + '_' + df['exonEnd'].astype(str)\n",
    "    df['5end_3end'] = df['chr'].astype(str) + '_' + df['upstreamEE'].astype(str) + '_' + df['downstreamES'].astype(str)\n",
    "    df = df.sort_values(by='FDR')\n",
    "    return df[['3end','SE_pos','5end_3end','IncLevelDifference','FDR']]"
   ]
  },
  {
   "cell_type": "code",
   "execution_count": 4,
   "id": "1e983dfb",
   "metadata": {},
   "outputs": [],
   "source": [
    "def get_leaf(fname):\n",
    "    pos_f = os.path.split(fname)[0] + '/leafcutter_cluster/sample_perind_numers.counts.gz'\n",
    "    with gzip.open(pos_f, 'rt') as file:  \n",
    "        lines = list(map(lambda l: l.strip().split(' '), file.readlines()))[1:]\n",
    "    clu_dict = {}\n",
    "    for line in lines:\n",
    "        chrom,start,end,clu_id = line[0].split(':')\n",
    "        clu_id = chrom + ':' + clu_id\n",
    "        if clu_id not in clu_dict:\n",
    "            clu_dict[clu_id] = [[],[]]\n",
    "        clu_dict[clu_id][0].append('_'.join([chrom,start,end]))\n",
    "        clu_dict[clu_id][1].append('_'.join([chrom,end]))\n",
    "    \n",
    "    df = pd.read_table(fname,header=0)\n",
    "    pos_list = []\n",
    "    three_end_list = []\n",
    "    for clu_id in df['cluster']:\n",
    "        poss = clu_dict[clu_id][0]; three_ends = clu_dict[clu_id][1]\n",
    "        pos_list.append(poss)\n",
    "        three_end_list.append(three_ends)\n",
    "    df['5end_3end'] = pos_list\n",
    "    df['3end'] = three_end_list\n",
    "    df['5end_3end_tuple'] = df['5end_3end'].apply(tuple)\n",
    "    df = df.sort_values('p.adjust').drop_duplicates(subset='5end_3end_tuple', keep='first')\n",
    "    df =  df.sort_values(by='p.adjust')\n",
    "    return df[['cluster','5end_3end','3end','p.adjust']]"
   ]
  },
  {
   "cell_type": "code",
   "execution_count": 5,
   "id": "4a2a991a",
   "metadata": {},
   "outputs": [],
   "source": [
    "def find_similar_intervals_rmats(list_A, list_B, tolerance=3):\n",
    "    def parse_interval(interval):\n",
    "        parts = interval.split('_')\n",
    "        if len(parts) == 3:\n",
    "            return parts[0], int(parts[1]), int(parts[2])\n",
    "        elif len(parts) == 2:\n",
    "            return parts[0], int(parts[1])\n",
    "        else:\n",
    "            ...\n",
    "    \n",
    "    # 预处理list_B，创建更高效的数据结构\n",
    "    b_intervals_by_chrom = {}\n",
    "    for interval_b in list_B:\n",
    "        chrom_b, start_b, end_b = parse_interval(interval_b)\n",
    "        if chrom_b not in b_intervals_by_chrom:\n",
    "            b_intervals_by_chrom[chrom_b] = []\n",
    "        b_intervals_by_chrom[chrom_b].append((start_b, end_b))\n",
    "    \n",
    "    common_intervals = []\n",
    "    \n",
    "    # 使用集合进行快速查找\n",
    "    for interval_a in list_A:\n",
    "        chrom_a, start_a, end_a = parse_interval(interval_a)\n",
    "        \n",
    "        # 快速检查染色体是否存在\n",
    "        if chrom_a not in b_intervals_by_chrom:\n",
    "            continue\n",
    "        \n",
    "        # 使用任何匹配即可的策略\n",
    "        for start_b, end_b in b_intervals_by_chrom[chrom_a]:\n",
    "            if (abs(start_a - start_b) <= tolerance) or (abs(end_a - end_b) <= tolerance):\n",
    "                common_intervals.append(interval_a)\n",
    "                break\n",
    "    \n",
    "    return common_intervals"
   ]
  },
  {
   "cell_type": "code",
   "execution_count": 6,
   "id": "3187e8c9",
   "metadata": {},
   "outputs": [],
   "source": [
    "def find_similar_intervals_leaf(list_A, list_B, tolerance=3):\n",
    "    def parse_interval(interval):\n",
    "        parts = interval.split('_')\n",
    "        if len(parts) == 3:\n",
    "            return parts[0], int(parts[1]), int(parts[2])\n",
    "        elif len(parts) == 2:\n",
    "            return parts[0], int(parts[1])\n",
    "        else:\n",
    "            ...\n",
    "    \n",
    "    # 预处理list_B，创建更高效的数据结构\n",
    "    b_intervals_by_chrom = {}\n",
    "    for interval_b in list_B:\n",
    "        chrom_b, start_b, end_b = parse_interval(interval_b)\n",
    "        if chrom_b not in b_intervals_by_chrom:\n",
    "            b_intervals_by_chrom[chrom_b] = []\n",
    "        b_intervals_by_chrom[chrom_b].append((start_b, end_b))\n",
    "    \n",
    "    common_intervals = []\n",
    "    \n",
    "    for interval_a_list in list_A:\n",
    "        found = False\n",
    "        for interval_a in interval_a_list:\n",
    "            chrom_a, start_a, end_a = parse_interval(interval_a)\n",
    "            if chrom_a not in b_intervals_by_chrom:\n",
    "                continue\n",
    "            for start_b, end_b in b_intervals_by_chrom[chrom_a]:\n",
    "                if (abs(start_a - start_b) <= tolerance) or (abs(end_a - end_b) <= tolerance):\n",
    "                    common_intervals.append(interval_a)\n",
    "                    found = True\n",
    "                    break\n",
    "            if found:\n",
    "                break\n",
    "    \n",
    "    return common_intervals"
   ]
  },
  {
   "cell_type": "code",
   "execution_count": 7,
   "id": "51acea4a",
   "metadata": {},
   "outputs": [],
   "source": [
    "def remove_duplicates(lst):\n",
    "    seen = set()\n",
    "    return [x for x in lst if not (x in seen or seen.add(x))]"
   ]
  },
  {
   "cell_type": "code",
   "execution_count": 8,
   "id": "d05ace5d",
   "metadata": {},
   "outputs": [],
   "source": [
    "def compute_aucc(ranked_genes_bulk, ranked_genes_sc, k,tool, plot=False):\n",
    "    ranked_genes_sc = remove_duplicates( ranked_genes_sc)\n",
    "    intersection_counts = []\n",
    "    for i in range(1, k + 1):\n",
    "        top_bulk = ranked_genes_bulk[:i]\n",
    "        top_sc = ranked_genes_sc[:i]\n",
    "        if tool == 'rmats':\n",
    "            intersection = len(find_similar_intervals_rmats(top_bulk, top_sc))\n",
    "        else:\n",
    "            intersection = len(find_similar_intervals_leaf(top_bulk, top_sc))\n",
    "        intersection_counts.append(intersection)\n",
    "\n",
    "    # 计算面积（Raw AUCC）\n",
    "    raw_aucc = sum(intersection_counts)\n",
    "\n",
    "    # 归一化：最大面积是 k*(k+1)/2\n",
    "    max_area = k * (k + 1) / 2\n",
    "    normalized_aucc = raw_aucc / max_area\n",
    "\n",
    "    if plot:\n",
    "        plt.figure(figsize=(6, 4))\n",
    "        plt.plot(range(1, k + 1), intersection_counts, label='Concordance Curve', color='blue')\n",
    "        plt.fill_between(range(1, k + 1), intersection_counts, alpha=0.3, color='blue')\n",
    "        plt.title(f'Concordance Curve (AUCC = {normalized_aucc:.3f})')\n",
    "        plt.xlabel('Top-k Genes')\n",
    "        plt.ylabel('Intersection Size')\n",
    "        plt.grid(True, linestyle='--', alpha=0.5)\n",
    "        plt.tight_layout()\n",
    "        plt.show()\n",
    "\n",
    "    return normalized_aucc"
   ]
  },
  {
   "cell_type": "code",
   "execution_count": 9,
   "id": "59bd4441",
   "metadata": {},
   "outputs": [],
   "source": [
    "def compute_aucc_gene(name,ranked_genes_bulk, ranked_genes_sc, k,tool, plot=False):\n",
    "    def find_same_gene(list_A,list_B):\n",
    "        common_genes = []\n",
    "        for gene in list_A:\n",
    "            if gene in list_B:\n",
    "                common_genes.append(gene)\n",
    "        return common_genes\n",
    "        \n",
    "    ranked_genes_sc = remove_duplicates(ranked_genes_sc)\n",
    "    #convert to gene id\n",
    "    if name == 'data9_a2i':\n",
    "        ranked_genes_sc = convert_to_geneid(ranked_genes_sc[:k+1],mm_anno_df)\n",
    "        ranked_genes_bulk = convert_to_geneid(ranked_genes_bulk[:k+1],mm_anno_df)\n",
    "    else:\n",
    "        ranked_genes_sc = convert_to_geneid(ranked_genes_sc[:k+1],hg_anno_df)\n",
    "        ranked_genes_bulk = convert_to_geneid(ranked_genes_bulk[:k+1],hg_anno_df)\n",
    "    intersection_counts = []\n",
    "    for i in range(1, k + 1):\n",
    "        top_bulk = ranked_genes_bulk[:i]\n",
    "        top_sc = ranked_genes_sc[:i]\n",
    "        intersection = len(find_same_gene(top_bulk, top_sc))\n",
    "        intersection_counts.append(intersection)\n",
    "\n",
    "    # 计算面积（Raw AUCC）\n",
    "    raw_aucc = sum(intersection_counts)\n",
    "\n",
    "    # 归一化：最大面积是 k*(k+1)/2\n",
    "    max_area = k * (k + 1) / 2\n",
    "    normalized_aucc = raw_aucc / max_area\n",
    "\n",
    "    if plot:\n",
    "        plt.figure(figsize=(6, 4))\n",
    "        plt.plot(range(1, k + 1), intersection_counts, label='Concordance Curve', color='blue')\n",
    "        plt.fill_between(range(1, k + 1), intersection_counts, alpha=0.3, color='blue')\n",
    "        plt.title(f'Concordance Curve (AUCC = {normalized_aucc:.3f})')\n",
    "        plt.xlabel('Top-k Genes')\n",
    "        plt.ylabel('Intersection Size')\n",
    "        plt.grid(True, linestyle='--', alpha=0.5)\n",
    "        plt.tight_layout()\n",
    "        plt.show()\n",
    "\n",
    "    return normalized_aucc"
   ]
  },
  {
   "cell_type": "code",
   "execution_count": 10,
   "id": "774a1d3f",
   "metadata": {},
   "outputs": [],
   "source": [
    "def convert_to_geneid(positions,df):\n",
    "    result_genes = []\n",
    "    \n",
    "    for pos in positions:\n",
    "        if isinstance(pos,list):\n",
    "            pos = pos[0]\n",
    "        pos = pos.split('_')\n",
    "        if len(pos) == 3:\n",
    "            chrom, start, end = pos\n",
    "        elif len(pos) == 2:\n",
    "            chrom, start = pos\n",
    "        else:\n",
    "            pass\n",
    "        \n",
    "        start = int(start);\n",
    "        # 找到相同染色体的基因\n",
    "        chr_genes = df[df['chrom'] == chrom].copy()\n",
    "        \n",
    "        if len(chr_genes) == 0:\n",
    "            result_genes.append(\"No gene found\")\n",
    "            continue\n",
    "            \n",
    "        # 找到包含start位置的基因\n",
    "        containing_genes = chr_genes[\n",
    "            (chr_genes['start'] <= start) & (chr_genes['end'] >= start)\n",
    "        ].copy()\n",
    "        \n",
    "        if len(containing_genes) == 0:\n",
    "            result_genes.append(\"No gene found\")\n",
    "            continue\n",
    "            \n",
    "        # 如果有protein_coding的基因，优先选择protein_coding\n",
    "        protein_coding = containing_genes[containing_genes['gene_type'] == 'protein_coding']\n",
    "        \n",
    "        if len(protein_coding) > 0:\n",
    "            # 如果有多个protein_coding基因，选择第一个\n",
    "            best_gene = protein_coding.iloc[0]\n",
    "        else:\n",
    "            # 如果没有protein_coding，选择第一个基因\n",
    "            best_gene = containing_genes.iloc[0]\n",
    "        \n",
    "        result_genes.append(best_gene['gene_id'])\n",
    "    \n",
    "    return result_genes"
   ]
  },
  {
   "cell_type": "code",
   "execution_count": 11,
   "id": "68332427",
   "metadata": {},
   "outputs": [],
   "source": [
    "def get_anno_df(f):\n",
    "    df = pd.read_csv(f, sep='\\t', usecols=['gene_id', 'gene_type', 'position'])\n",
    "    df[['chrom', 'coords']] = df['position'].str.split(':', expand=True)\n",
    "    df[['start', 'end']] = df['coords'].str.split('-', expand=True).astype(int)\n",
    "    return df"
   ]
  },
  {
   "cell_type": "code",
   "execution_count": 12,
   "id": "86737f51",
   "metadata": {},
   "outputs": [],
   "source": [
    "sc_files = {'data2_24h':'/disk1/2.methods_AS/6.marvel/2.stemCell_GSE52529/Myoblast_Cell_T0_vs_Myoblast_Cell_T24.ad.csv',\n",
    "           'data2_48h':'/disk1/2.methods_AS/6.marvel/2.stemCell_GSE52529/Myoblast_Cell_T0_vs_Myoblast_Cell_T48.ad.csv',\n",
    "           'data2_72h':'/disk1/2.methods_AS/6.marvel/2.stemCell_GSE52529/Myoblast_Cell_T0_vs_Myoblast_Cell_T72.ad.csv',\n",
    "           'data8_ipsc':'/disk1/2.methods_AS/6.marvel/8.iPSC_GSE85908/Motor_neurons_vs_Induced_pluripotent_cells.ad.csv',\n",
    "           'data9_a2i':'/disk1/2.methods_AS/6.marvel/9.CSC_E-MTAB-2600/serum_vs_a2i.ad.csv'}"
   ]
  },
  {
   "cell_type": "code",
   "execution_count": 13,
   "id": "9d7054ff",
   "metadata": {},
   "outputs": [],
   "source": [
    "rmats_files = {'data2_24h':'/disk4/humanData/2.stemCell_GSE52529/bulk_spl/bulk_24hrs/SE.MATS.JCEC.txt',\n",
    "               'data2_48h':'/disk4/humanData/2.stemCell_GSE52529/bulk_spl/bulk_48hrs/SE.MATS.JCEC.txt',\n",
    "               'data2_72h':'/disk4/humanData/2.stemCell_GSE52529/bulk_spl/bulk_72hrs/SE.MATS.JCEC.txt',\n",
    "              'data8_ipsc':'/disk4/humanData/3.iPSC_GSE85908/bulk_spl/Induced_pluripotent_cells/SE.MATS.JCEC.txt',\n",
    "              'data9_a2i':'/disk4/mouseData/CSC_E-MTAB-2600/bulk_spl/serum_bulk/SE.MATS.JCEC.txt'}"
   ]
  },
  {
   "cell_type": "code",
   "execution_count": 14,
   "id": "895941ee",
   "metadata": {},
   "outputs": [],
   "source": [
    "leaf_files = {'data2_24h':'/disk4/humanData/2.stemCell_GSE52529/bulk_spl/bulk_24hrs_groups_cluster_significance.txt',\n",
    "             'data2_48h':'/disk4/humanData/2.stemCell_GSE52529/bulk_spl/bulk_48hrs_groups_cluster_significance.txt',\n",
    "             'data2_72h':'/disk4/humanData/2.stemCell_GSE52529/bulk_spl/bulk_72hrs_groups_cluster_significance.txt',\n",
    "             'data8_ipsc':'/disk4/humanData/3.iPSC_GSE85908/bulk_spl/Induced_pluripotent_cells_groups_cluster_significance.txt',\n",
    "             'data9_a2i':'/disk4/mouseData/CSC_E-MTAB-2600/bulk_spl/a2i_bulk_groups_cluster_significance.txt'}"
   ]
  },
  {
   "cell_type": "code",
   "execution_count": 15,
   "id": "f772d56b",
   "metadata": {},
   "outputs": [],
   "source": [
    "hg_anno_df = get_anno_df(f='/disk1/0.Genome/gencode.v31/GenomeAnnotation.txt')\n",
    "mm_anno_df = get_anno_df(f='/disk1/0.Genome/gencode.vM25/GenomeAnnotation.txt')"
   ]
  },
  {
   "cell_type": "code",
   "execution_count": 16,
   "id": "955b6afb",
   "metadata": {},
   "outputs": [
    {
     "name": "stdout",
     "output_type": "stream",
     "text": [
      "data2_24h\n",
      "data2_48h\n",
      "data2_72h\n",
      "data8_ipsc\n",
      "data9_a2i\n"
     ]
    }
   ],
   "source": [
    "k = 200\n",
    "result = {}\n",
    "gene_result = {}\n",
    "for name in sc_files.keys():\n",
    "    print(name)\n",
    "    result[name] = {}; gene_result[name] = {}\n",
    "    sc_f = sc_files[name]; rmats_f = rmats_files[name]; leaf_f = leaf_files[name]\n",
    "    sc_pval = get_sc(sc_f)\n",
    "    rmats_pval = get_rmats(rmats_f)\n",
    "    leaf_pval = get_leaf(leaf_f)\n",
    "    #################event level##################\n",
    "    tool = 'rmats'\n",
    "    aucc_score = compute_aucc(rmats_pval['SE_pos'].to_list(),sc_pval['SE_pos'].to_list(), k=k,tool=tool)\n",
    "    result[name][tool] = aucc_score\n",
    "    tool = 'leaf'\n",
    "    aucc_score = compute_aucc(leaf_pval['5end_3end'].to_list(),sc_pval['5end_3end'].to_list(), k=k,tool=tool)\n",
    "    result[name][tool] = aucc_score\n",
    "    #################gene level##################\n",
    "    tool = 'rmats'\n",
    "    aucc_score = compute_aucc_gene(name,rmats_pval['SE_pos'].to_list(),sc_pval['SE_pos'].to_list(), k=k,tool=tool)\n",
    "    gene_result[name][tool] = aucc_score\n",
    "    tool = 'leaf'\n",
    "    aucc_score = compute_aucc_gene(name,leaf_pval['5end_3end'].to_list(),sc_pval['5end_3end'].to_list(), k=k,tool=tool)\n",
    "    gene_result[name][tool] = aucc_score"
   ]
  },
  {
   "cell_type": "code",
   "execution_count": 17,
   "id": "3f628941",
   "metadata": {},
   "outputs": [
    {
     "data": {
      "text/plain": [
       "{'data2_24h': {'rmats': 0.10288557213930348, 'leaf': 0.08124378109452736},\n",
       " 'data2_48h': {'rmats': 0.12333333333333334, 'leaf': 0.07482587064676617},\n",
       " 'data2_72h': {'rmats': 0.12796019900497513, 'leaf': 0.0918407960199005},\n",
       " 'data8_ipsc': {'rmats': 0.26159203980099505, 'leaf': 0.11796019900497512},\n",
       " 'data9_a2i': {'rmats': 0.1771144278606965, 'leaf': 0.057860696517412935}}"
      ]
     },
     "execution_count": 17,
     "metadata": {},
     "output_type": "execute_result"
    }
   ],
   "source": [
    "result"
   ]
  },
  {
   "cell_type": "code",
   "execution_count": 18,
   "id": "de675c29",
   "metadata": {},
   "outputs": [
    {
     "data": {
      "text/plain": [
       "{'data2_24h': {'rmats': 0.1335820895522388, 'leaf': 0.14562189054726368},\n",
       " 'data2_48h': {'rmats': 0.1700497512437811, 'leaf': 0.18925373134328358},\n",
       " 'data2_72h': {'rmats': 0.1782587064676617, 'leaf': 0.17915422885572138},\n",
       " 'data8_ipsc': {'rmats': 0.2991542288557214, 'leaf': 0.2027363184079602},\n",
       " 'data9_a2i': {'rmats': 0.2146268656716418, 'leaf': 0.12641791044776118}}"
      ]
     },
     "execution_count": 18,
     "metadata": {},
     "output_type": "execute_result"
    }
   ],
   "source": [
    "gene_result"
   ]
  },
  {
   "cell_type": "code",
   "execution_count": 20,
   "id": "040228a5",
   "metadata": {},
   "outputs": [],
   "source": [
    "df = pd.DataFrame.from_dict(result,orient='index')\n",
    "df.to_csv('MARVEL_AUCC.{}.csv'.format(k))"
   ]
  },
  {
   "cell_type": "code",
   "execution_count": 21,
   "id": "ed32c795",
   "metadata": {},
   "outputs": [],
   "source": [
    "df = pd.DataFrame.from_dict(gene_result,orient='index')\n",
    "df.to_csv('MARVEL_AUCC.gene.{}.csv'.format(k))"
   ]
  }
 ],
 "metadata": {
  "kernelspec": {
   "display_name": "Python 3 (ipykernel)",
   "language": "python",
   "name": "python3"
  },
  "language_info": {
   "codemirror_mode": {
    "name": "ipython",
    "version": 3
   },
   "file_extension": ".py",
   "mimetype": "text/x-python",
   "name": "python",
   "nbconvert_exporter": "python",
   "pygments_lexer": "ipython3",
   "version": "3.12.3"
  }
 },
 "nbformat": 4,
 "nbformat_minor": 5
}
