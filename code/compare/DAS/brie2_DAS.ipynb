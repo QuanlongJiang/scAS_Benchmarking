{
 "cells": [
  {
   "cell_type": "code",
   "execution_count": 1,
   "id": "2b9d190c",
   "metadata": {},
   "outputs": [],
   "source": [
    "import glob,os\n",
    "import gzip\n",
    "\n",
    "import pandas as pd\n",
    "import numpy as np\n",
    "import matplotlib.pyplot as plt\n",
    "from matplotlib import font_manager\n",
    "plt.switch_backend('agg')\n",
    "import seaborn as sns\n",
    "sns.set_style( \"white\" )\n",
    "\n",
    "import seaborn as sns\n",
    "import matplotlib.pyplot as plt\n",
    "from matplotlib import font_manager\n",
    "from matplotlib import font_manager\n",
    "from matplotlib.colors import LinearSegmentedColormap\n",
    "\n",
    "font_dirs = ['/home/jiangquanlong/miniconda3/envs/r_env/lib/python3.12/site-packages/matplotlib/mpl-data/fonts/ttf']\n",
    "font_files = font_manager.findSystemFonts(fontpaths=font_dirs)\n",
    "for font_file in font_files:\n",
    "    font_manager.fontManager.addfont(font_file)\n",
    "\n",
    "plt.rcParams['font.family'] = 'sans-serif'\n",
    "plt.rcParams['font.sans-serif'] = ['Arial']  \n",
    "plt.rcParams['pdf.fonttype'] = 42"
   ]
  },
  {
   "cell_type": "code",
   "execution_count": 2,
   "id": "87b41f58",
   "metadata": {},
   "outputs": [],
   "source": [
    "def get_ref_dict(data_name):\n",
    "    if data_name != 'data9_a2i':\n",
    "        f1 = '/disk1/0.Genome/gencode.v31/AS_events/SE.lenient.SEpos.txt'\n",
    "        f2 = '/disk1/0.Genome/gencode.v31/AS_events/SE.lenient.5end_3end.txt'\n",
    "    else:\n",
    "        f1 = '/disk1/0.Genome/gencode.vM25/AS_events/SE.lenient.SEpos.txt'\n",
    "        f2 = '/disk1/0.Genome/gencode.vM25/AS_events/SE.lenient.5end_3end.txt'\n",
    "    SE_dict = {}\n",
    "    for line in open(f1):\n",
    "        line = line.strip().split('\\t')\n",
    "        SE_dict[line[0]] = line[1] + '_' + line[2] + '_' + line[3]\n",
    "    \n",
    "    end_dict = {}\n",
    "    for line in open(f2):\n",
    "        line = line.strip().split('\\t')\n",
    "        end_dict[line[0]] = line[1] + '_' + line[2] + '_' + line[3]\n",
    "    return SE_dict,end_dict\n",
    "\n",
    "def get_sc(name,fname):\n",
    "    SE_dict,end_dict = get_ref_dict(name)\n",
    "    df = pd.read_table(fname,header=0)\n",
    "    fdr_col = df.columns[-1]\n",
    "    df['SE_pos'] = df['GeneID'].map(SE_dict)\n",
    "    df['5end_3end'] = df['GeneID'].map(end_dict)\n",
    "    df = df.sort_values(by=fdr_col)\n",
    "    return df[['SE_pos','5end_3end',fdr_col]]\n"
   ]
  },
  {
   "cell_type": "code",
   "execution_count": 3,
   "id": "446d98fe",
   "metadata": {},
   "outputs": [],
   "source": [
    "def get_rmats(fname):\n",
    "    df = pd.read_table(fname, header=0)\n",
    "    df['3end'] = df['chr'].astype(str) + '_' + df['downstreamES'].astype(str)\n",
    "    df['SE_pos'] = df['chr'].astype(str) + '_' + df['exonStart_0base'].astype(str) + '_' + df['exonEnd'].astype(str)\n",
    "    df['5end_3end_pos'] = df['chr'].astype(str) + '_' + df['upstreamEE'].astype(str) + '_' + df['downstreamES'].astype(str)\n",
    "    #df = df[abs(df['IncLevelDifference'])>0.1]\n",
    "    df = df.sort_values(by='FDR')\n",
    "    return df[['3end','SE_pos','5end_3end_pos','IncLevelDifference','FDR']]"
   ]
  },
  {
   "cell_type": "code",
   "execution_count": 4,
   "id": "58ad95f5",
   "metadata": {},
   "outputs": [],
   "source": [
    "def get_leaf(fname):\n",
    "    pos_f = os.path.split(fname)[0] + '/leafcutter_cluster/sample_perind_numers.counts.gz'\n",
    "    with gzip.open(pos_f, 'rt') as file:  \n",
    "        lines = list(map(lambda l: l.strip().split(' '), file.readlines()))[1:]\n",
    "    clu_dict = {}\n",
    "    for line in lines:\n",
    "        chrom,start,end,clu_id = line[0].split(':')\n",
    "        clu_id = chrom + ':' + clu_id\n",
    "        if clu_id not in clu_dict:\n",
    "            clu_dict[clu_id] = [[],[]]\n",
    "        clu_dict[clu_id][0].append('_'.join([chrom,start,end]))\n",
    "        clu_dict[clu_id][1].append('_'.join([chrom,end]))\n",
    "    \n",
    "    df = pd.read_table(fname,header=0)\n",
    "    pos_list = []\n",
    "    three_end_list = []\n",
    "    for clu_id in df['cluster']:\n",
    "        poss = clu_dict[clu_id][0]; three_ends = clu_dict[clu_id][1]\n",
    "        pos_list.append(poss)\n",
    "        three_end_list.append(three_ends)\n",
    "    df['5end_3end'] = pos_list\n",
    "    df['3end'] = three_end_list\n",
    "    df['5end_3end_tuple'] = df['5end_3end'].apply(tuple)\n",
    "    df = df.sort_values('p.adjust').drop_duplicates(subset='5end_3end_tuple', keep='first')\n",
    "    df =  df.sort_values(by='p.adjust')\n",
    "    return df[['cluster','5end_3end','3end','p.adjust']]\n",
    "        "
   ]
  },
  {
   "cell_type": "code",
   "execution_count": null,
   "id": "ab5921a1",
   "metadata": {},
   "outputs": [],
   "source": []
  },
  {
   "cell_type": "code",
   "execution_count": 5,
   "id": "5361bcf7",
   "metadata": {},
   "outputs": [],
   "source": [
    "def find_similar_intervals_rmats(list_A, list_B, tolerance=3):\n",
    "    def parse_interval(interval):\n",
    "        parts = interval.split('_')\n",
    "        return parts[0], int(parts[1]), int(parts[2])\n",
    "    \n",
    "    # 预处理list_B，创建更高效的数据结构\n",
    "    b_intervals_by_chrom = {}\n",
    "    for interval_b in list_B:\n",
    "        chrom_b, start_b, end_b = parse_interval(interval_b)\n",
    "        if chrom_b not in b_intervals_by_chrom:\n",
    "            b_intervals_by_chrom[chrom_b] = []\n",
    "        b_intervals_by_chrom[chrom_b].append((start_b, end_b))\n",
    "    \n",
    "    common_intervals = []\n",
    "    \n",
    "    # 使用集合进行快速查找\n",
    "    for interval_a in list_A:\n",
    "        chrom_a, start_a, end_a = parse_interval(interval_a)\n",
    "        \n",
    "        # 快速检查染色体是否存在\n",
    "        if chrom_a not in b_intervals_by_chrom:\n",
    "            continue\n",
    "        \n",
    "        # 使用任何匹配即可的策略\n",
    "        for start_b, end_b in b_intervals_by_chrom[chrom_a]:\n",
    "            if (abs(start_a - start_b) <= tolerance) or (abs(end_a - end_b) <= tolerance):\n",
    "                common_intervals.append(interval_a)\n",
    "                break\n",
    "    \n",
    "    return common_intervals"
   ]
  },
  {
   "cell_type": "code",
   "execution_count": 6,
   "id": "457fd4ed",
   "metadata": {},
   "outputs": [],
   "source": [
    "def find_similar_intervals_leaf(list_A, list_B, tolerance=3):\n",
    "    def parse_interval(interval):\n",
    "        parts = interval.split('_')\n",
    "        return parts[0], int(parts[1]), int(parts[2])\n",
    "    \n",
    "    # 预处理list_B，创建更高效的数据结构\n",
    "    b_intervals_by_chrom = {}\n",
    "    for interval_b in list_B:\n",
    "        chrom_b, start_b, end_b = parse_interval(interval_b)\n",
    "        if chrom_b not in b_intervals_by_chrom:\n",
    "            b_intervals_by_chrom[chrom_b] = []\n",
    "        b_intervals_by_chrom[chrom_b].append((start_b, end_b))\n",
    "    \n",
    "    common_intervals = []\n",
    "    \n",
    "    for interval_a_list in list_A:\n",
    "        found = False\n",
    "        for interval_a in interval_a_list:\n",
    "            chrom_a, start_a, end_a = parse_interval(interval_a)\n",
    "            if chrom_a not in b_intervals_by_chrom:\n",
    "                continue\n",
    "            for start_b, end_b in b_intervals_by_chrom[chrom_a]:\n",
    "                if (abs(start_a - start_b) <= tolerance) or (abs(end_a - end_b) <= tolerance):\n",
    "                    common_intervals.append(interval_a)\n",
    "                    found = True\n",
    "                    break\n",
    "            if found:\n",
    "                break\n",
    "    \n",
    "    return common_intervals"
   ]
  },
  {
   "cell_type": "code",
   "execution_count": 7,
   "id": "7febfa8a",
   "metadata": {},
   "outputs": [],
   "source": [
    "def remove_duplicates(lst):\n",
    "    seen = set()\n",
    "    return [x for x in lst if not (x in seen or seen.add(x))]"
   ]
  },
  {
   "cell_type": "code",
   "execution_count": 8,
   "id": "ef43e853",
   "metadata": {},
   "outputs": [],
   "source": [
    "def compute_aucc(ranked_genes_bulk, ranked_genes_sc, k,tool, plot=False):\n",
    "    ranked_genes_sc = remove_duplicates( ranked_genes_sc)\n",
    "    intersection_counts = []\n",
    "    for i in range(1, k + 1):\n",
    "        top_bulk = ranked_genes_bulk[:i]\n",
    "        top_sc = ranked_genes_sc[:i]\n",
    "        if tool == 'rmats':\n",
    "            intersection = len(find_similar_intervals_rmats(top_bulk, top_sc))\n",
    "        else:\n",
    "            intersection = len(find_similar_intervals_leaf(top_bulk, top_sc))\n",
    "        intersection_counts.append(intersection)\n",
    "\n",
    "    # 计算面积（Raw AUCC）\n",
    "    raw_aucc = sum(intersection_counts)\n",
    "\n",
    "    # 归一化：最大面积是 k*(k+1)/2\n",
    "    max_area = k * (k + 1) / 2\n",
    "    normalized_aucc = raw_aucc / max_area\n",
    "\n",
    "    if plot:\n",
    "        plt.figure(figsize=(6, 4))\n",
    "        plt.plot(range(1, k + 1), intersection_counts, label='Concordance Curve', color='blue')\n",
    "        plt.fill_between(range(1, k + 1), intersection_counts, alpha=0.3, color='blue')\n",
    "        plt.title(f'Concordance Curve (AUCC = {normalized_aucc:.3f})')\n",
    "        plt.xlabel('Top-k Genes')\n",
    "        plt.ylabel('Intersection Size')\n",
    "        plt.grid(True, linestyle='--', alpha=0.5)\n",
    "        plt.tight_layout()\n",
    "        plt.show()\n",
    "\n",
    "    return normalized_aucc"
   ]
  },
  {
   "cell_type": "code",
   "execution_count": 9,
   "id": "84a47ed1",
   "metadata": {},
   "outputs": [],
   "source": [
    "def compute_aucc_gene(name,ranked_genes_bulk, ranked_genes_sc, k,tool, plot=False):\n",
    "    def find_same_gene(list_A,list_B):\n",
    "        common_genes = []\n",
    "        for gene in list_A:\n",
    "            if gene in list_B:\n",
    "                common_genes.append(gene)\n",
    "        return common_genes\n",
    "        \n",
    "    ranked_genes_sc = remove_duplicates(ranked_genes_sc)\n",
    "    #convert to gene id\n",
    "    if name == 'data9_a2i':\n",
    "        ranked_genes_sc = convert_to_geneid(ranked_genes_sc[:k+1],mm_anno_df)\n",
    "        ranked_genes_bulk = convert_to_geneid(ranked_genes_bulk[:k+1],mm_anno_df)\n",
    "    else:\n",
    "        ranked_genes_sc = convert_to_geneid(ranked_genes_sc[:k+1],hg_anno_df)\n",
    "        ranked_genes_bulk = convert_to_geneid(ranked_genes_bulk[:k+1],hg_anno_df)\n",
    "    intersection_counts = []\n",
    "    for i in range(1, k + 1):\n",
    "        top_bulk = ranked_genes_bulk[:i]\n",
    "        top_sc = ranked_genes_sc[:i]\n",
    "        intersection = len(find_same_gene(top_bulk, top_sc))\n",
    "        intersection_counts.append(intersection)\n",
    "\n",
    "    # 计算面积（Raw AUCC）\n",
    "    raw_aucc = sum(intersection_counts)\n",
    "\n",
    "    # 归一化：最大面积是 k*(k+1)/2\n",
    "    max_area = k * (k + 1) / 2\n",
    "    normalized_aucc = raw_aucc / max_area\n",
    "\n",
    "    if plot:\n",
    "        plt.figure(figsize=(6, 4))\n",
    "        plt.plot(range(1, k + 1), intersection_counts, label='Concordance Curve', color='blue')\n",
    "        plt.fill_between(range(1, k + 1), intersection_counts, alpha=0.3, color='blue')\n",
    "        plt.title(f'Concordance Curve (AUCC = {normalized_aucc:.3f})')\n",
    "        plt.xlabel('Top-k Genes')\n",
    "        plt.ylabel('Intersection Size')\n",
    "        plt.grid(True, linestyle='--', alpha=0.5)\n",
    "        plt.tight_layout()\n",
    "        plt.show()\n",
    "\n",
    "    return normalized_aucc"
   ]
  },
  {
   "cell_type": "code",
   "execution_count": 10,
   "id": "0d17041b",
   "metadata": {},
   "outputs": [],
   "source": [
    "def convert_to_geneid(positions,df):\n",
    "    result_genes = []\n",
    "    \n",
    "    for pos in positions:\n",
    "        if isinstance(pos,list):\n",
    "            pos = pos[0]\n",
    "        pos = pos.split('_')\n",
    "        if len(pos) == 3:\n",
    "            chrom, start, end = pos\n",
    "        elif len(pos) == 2:\n",
    "            chrom, start = pos\n",
    "        else:\n",
    "            pass\n",
    "        \n",
    "        start = int(start);\n",
    "        # 找到相同染色体的基因\n",
    "        chr_genes = df[df['chrom'] == chrom].copy()\n",
    "        \n",
    "        if len(chr_genes) == 0:\n",
    "            result_genes.append(\"No gene found\")\n",
    "            continue\n",
    "            \n",
    "        # 找到包含start位置的基因\n",
    "        containing_genes = chr_genes[\n",
    "            (chr_genes['start'] <= start) & (chr_genes['end'] >= start)\n",
    "        ].copy()\n",
    "        \n",
    "        if len(containing_genes) == 0:\n",
    "            result_genes.append(\"No gene found\")\n",
    "            continue\n",
    "            \n",
    "        # 如果有protein_coding的基因，优先选择protein_coding\n",
    "        protein_coding = containing_genes[containing_genes['gene_type'] == 'protein_coding']\n",
    "        \n",
    "        if len(protein_coding) > 0:\n",
    "            # 如果有多个protein_coding基因，选择第一个\n",
    "            best_gene = protein_coding.iloc[0]\n",
    "        else:\n",
    "            # 如果没有protein_coding，选择第一个基因\n",
    "            best_gene = containing_genes.iloc[0]\n",
    "        \n",
    "        result_genes.append(best_gene['gene_id'])\n",
    "    \n",
    "    return result_genes"
   ]
  },
  {
   "cell_type": "code",
   "execution_count": 11,
   "id": "b78c4b92",
   "metadata": {},
   "outputs": [],
   "source": [
    "def get_anno_df(f):\n",
    "    df = pd.read_csv(f, sep='\\t', usecols=['gene_id', 'gene_type', 'position'])\n",
    "    df[['chrom', 'coords']] = df['position'].str.split(':', expand=True)\n",
    "    df[['start', 'end']] = df['coords'].str.split('-', expand=True).astype(int)\n",
    "    return df"
   ]
  },
  {
   "cell_type": "code",
   "execution_count": 12,
   "id": "049d6243",
   "metadata": {},
   "outputs": [],
   "source": [
    "hg_anno_df = get_anno_df(f='/disk1/0.Genome/gencode.v31/GenomeAnnotation.txt')\n",
    "mm_anno_df = get_anno_df(f='/disk1/0.Genome/gencode.vM25/GenomeAnnotation.txt')"
   ]
  },
  {
   "cell_type": "code",
   "execution_count": 13,
   "id": "aa903ea1",
   "metadata": {},
   "outputs": [],
   "source": [
    "sc_files = {'data2_24h':'/disk4/humanData/2.stemCell_GSE52529/SE_events/brie_quant_cell.Myoblast_Cell_T0_vs_Myoblast_Cell_T24.brie_ident.tsv',\n",
    "           'data2_48h':'/disk4/humanData/2.stemCell_GSE52529/SE_events/brie_quant_cell.Myoblast_Cell_T0_vs_Myoblast_Cell_T48.brie_ident.tsv',\n",
    "           'data2_72h':'/disk4/humanData/2.stemCell_GSE52529/SE_events/brie_quant_cell.Myoblast_Cell_T0_vs_Myoblast_Cell_T72.brie_ident.tsv',\n",
    "           'data8_ipsc':'/disk4/humanData/3.iPSC_GSE85908/SE_events/brie_quant_cell.Motor_neurons_vs_Induced_pluripotent_cells.brie_ident.tsv',\n",
    "           'data9_a2i':'/disk4/mouseData/CSC_E-MTAB-2600/SE_events/brie_quant_cell.serum_vs_a2i.brie_ident.tsv'}"
   ]
  },
  {
   "cell_type": "code",
   "execution_count": 14,
   "id": "a34c3d57",
   "metadata": {},
   "outputs": [],
   "source": [
    "rmats_files = {'data2_24h':'/disk4/humanData/2.stemCell_GSE52529/bulk_spl/bulk_24hrs/SE.MATS.JCEC.txt',\n",
    "               'data2_48h':'/disk4/humanData/2.stemCell_GSE52529/bulk_spl/bulk_48hrs/SE.MATS.JCEC.txt',\n",
    "               'data2_72h':'/disk4/humanData/2.stemCell_GSE52529/bulk_spl/bulk_72hrs/SE.MATS.JCEC.txt',\n",
    "              'data8_ipsc':'/disk4/humanData/3.iPSC_GSE85908/bulk_spl/Induced_pluripotent_cells/SE.MATS.JCEC.txt',\n",
    "              'data9_a2i':'/disk4/mouseData/CSC_E-MTAB-2600/bulk_spl/serum_bulk/SE.MATS.JCEC.txt'}"
   ]
  },
  {
   "cell_type": "code",
   "execution_count": 15,
   "id": "74d452b6",
   "metadata": {},
   "outputs": [],
   "source": [
    "leaf_files = {'data2_24h':'/disk4/humanData/2.stemCell_GSE52529/bulk_spl/bulk_24hrs_groups_cluster_significance.txt',\n",
    "             'data2_48h':'/disk4/humanData/2.stemCell_GSE52529/bulk_spl/bulk_48hrs_groups_cluster_significance.txt',\n",
    "             'data2_72h':'/disk4/humanData/2.stemCell_GSE52529/bulk_spl/bulk_72hrs_groups_cluster_significance.txt',\n",
    "             'data8_ipsc':'/disk4/humanData/3.iPSC_GSE85908/bulk_spl/Induced_pluripotent_cells_groups_cluster_significance.txt',\n",
    "             'data9_a2i':'/disk4/mouseData/CSC_E-MTAB-2600/bulk_spl/a2i_bulk_groups_cluster_significance.txt'}"
   ]
  },
  {
   "cell_type": "code",
   "execution_count": 21,
   "id": "d0acc320",
   "metadata": {
    "scrolled": false
   },
   "outputs": [
    {
     "name": "stdout",
     "output_type": "stream",
     "text": [
      "data2_24h\n",
      "data2_48h\n",
      "data2_72h\n",
      "data8_ipsc\n",
      "data9_a2i\n"
     ]
    }
   ],
   "source": [
    "result = {}\n",
    "gene_result = {}\n",
    "k = 100\n",
    "for name in sc_files:\n",
    "    print(name)\n",
    "    result[name] = {}; gene_result[name] = {}\n",
    "    sc_f = sc_files[name]; rmats_f = rmats_files[name]; leaf_f = leaf_files[name]\n",
    "    sc_pval = get_sc(name,sc_f)\n",
    "    rmats_pval = get_rmats(rmats_f)\n",
    "    leaf_pval = get_leaf(leaf_f)\n",
    "    tool = 'rmats'\n",
    "    aucc_score = compute_aucc(rmats_pval['SE_pos'].to_list(),sc_pval['SE_pos'].to_list(), k=k,tool=tool)\n",
    "    result[name][tool] = aucc_score\n",
    "    tool = 'leaf'\n",
    "    aucc_score = compute_aucc(leaf_pval['5end_3end'].to_list(),sc_pval['5end_3end'].to_list(), k=k,tool=tool)\n",
    "    result[name][tool] = aucc_score\n",
    "    #################gene level##################\n",
    "    tool = 'rmats'\n",
    "    aucc_score = compute_aucc_gene(name,rmats_pval['SE_pos'].to_list(),sc_pval['SE_pos'].to_list(), k=k,tool=tool)\n",
    "    gene_result[name][tool] = aucc_score\n",
    "    tool = 'leaf'\n",
    "    aucc_score = compute_aucc_gene(name,leaf_pval['5end_3end'].to_list(),sc_pval['5end_3end'].to_list(), k=k,tool=tool)\n",
    "    gene_result[name][tool] = aucc_score"
   ]
  },
  {
   "cell_type": "code",
   "execution_count": 26,
   "id": "8965344a",
   "metadata": {},
   "outputs": [
    {
     "data": {
      "text/plain": [
       "{'data2_24h': {'rmats': 0.16772277227722773, 'leaf': 0.1093069306930693},\n",
       " 'data2_48h': {'rmats': 0.17683168316831682, 'leaf': 0.14594059405940593},\n",
       " 'data2_72h': {'rmats': 0.2732673267326733, 'leaf': 0.18831683168316832},\n",
       " 'data8_ipsc': {'rmats': 0.14554455445544554, 'leaf': 0.11227722772277228},\n",
       " 'data9_a2i': {'rmats': 0.21722772277227723, 'leaf': 0.09722772277227723}}"
      ]
     },
     "execution_count": 26,
     "metadata": {},
     "output_type": "execute_result"
    }
   ],
   "source": [
    "gene_result"
   ]
  },
  {
   "cell_type": "code",
   "execution_count": 26,
   "id": "8e4c8736",
   "metadata": {},
   "outputs": [
    {
     "data": {
      "text/plain": [
       "{'data2_24h': {'rmats': 0.1339241516966068, 'leaf': 0.1078003992015968},\n",
       " 'data2_48h': {'rmats': 0.17945708582834333, 'leaf': 0.1798003992015968},\n",
       " 'data2_72h': {'rmats': 0.22409580838323354, 'leaf': 0.20709780439121755},\n",
       " 'data8_ipsc': {'rmats': 0.21261477045908184, 'leaf': 0.14189221556886228},\n",
       " 'data9_a2i': {'rmats': 0.19761277445109782, 'leaf': 0.14083033932135727}}"
      ]
     },
     "execution_count": 26,
     "metadata": {},
     "output_type": "execute_result"
    }
   ],
   "source": [
    "gene_result"
   ]
  },
  {
   "cell_type": "code",
   "execution_count": 27,
   "id": "f8622055",
   "metadata": {},
   "outputs": [
    {
     "data": {
      "text/plain": [
       "{'data2_24h': {'rmats': 0.06219560878243513, 'leaf': 0.04046307385229541},\n",
       " 'data2_48h': {'rmats': 0.0857804391217565, 'leaf': 0.05337325349301397},\n",
       " 'data2_72h': {'rmats': 0.10209980039920159, 'leaf': 0.06926147704590818},\n",
       " 'data8_ipsc': {'rmats': 0.13305389221556888, 'leaf': 0.06089421157684631},\n",
       " 'data9_a2i': {'rmats': 0.13069860279441117, 'leaf': 0.05996007984031936}}"
      ]
     },
     "execution_count": 27,
     "metadata": {},
     "output_type": "execute_result"
    }
   ],
   "source": [
    "result"
   ]
  },
  {
   "cell_type": "code",
   "execution_count": 23,
   "id": "011cf1c2",
   "metadata": {},
   "outputs": [],
   "source": [
    "df = pd.DataFrame.from_dict(result,orient='index')\n",
    "df.to_csv('BRIE2_AUCC.{}.csv'.format(k))"
   ]
  },
  {
   "cell_type": "code",
   "execution_count": 24,
   "id": "24f27e37",
   "metadata": {},
   "outputs": [],
   "source": [
    "df = pd.DataFrame.from_dict(gene_result,orient='index')\n",
    "df.to_csv('BRIE2_AUCC.gene.{}.csv'.format(k))"
   ]
  },
  {
   "cell_type": "code",
   "execution_count": null,
   "id": "5c88d235",
   "metadata": {},
   "outputs": [],
   "source": []
  }
 ],
 "metadata": {
  "kernelspec": {
   "display_name": "Python 3 (ipykernel)",
   "language": "python",
   "name": "python3"
  },
  "language_info": {
   "codemirror_mode": {
    "name": "ipython",
    "version": 3
   },
   "file_extension": ".py",
   "mimetype": "text/x-python",
   "name": "python",
   "nbconvert_exporter": "python",
   "pygments_lexer": "ipython3",
   "version": "3.12.3"
  }
 },
 "nbformat": 4,
 "nbformat_minor": 5
}
