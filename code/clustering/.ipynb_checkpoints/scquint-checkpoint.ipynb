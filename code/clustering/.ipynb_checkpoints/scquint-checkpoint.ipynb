{
 "cells": [
  {
   "cell_type": "code",
   "execution_count": 1,
   "id": "004693d9",
   "metadata": {
    "ExecuteTime": {
     "end_time": "2025-08-12T03:26:28.852163Z",
     "start_time": "2025-08-12T03:26:27.509492Z"
    }
   },
   "outputs": [],
   "source": [
    "import scanpy as sc\n",
    "import numpy as np\n",
    "import urllib.request\n",
    "import anndata\n",
    "import pandas as pd\n",
    "from pathlib import Path\n",
    "from scipy.sparse import issparse\n",
    "from scipy.sparse import csr_matrix\n",
    "from scipy.stats import pearsonr\n",
    "from scipy.stats import zscore\n",
    "\n",
    "from sklearn.metrics import accuracy_score, roc_auc_score, roc_curve\n",
    "from sklearn.preprocessing import label_binarize\n",
    "\n",
    "import seaborn as sns\n",
    "import matplotlib.pyplot as plt\n",
    "import matplotlib as mpl\n",
    "from matplotlib import font_manager\n",
    "\n",
    "mpl.rcParams['patch.edgecolor'] = 'black'\n",
    "plt.rcParams['font.family'] = 'sans-serif'\n",
    "plt.rcParams['font.sans-serif'] = ['Arial']  \n",
    "plt.rcParams['pdf.fonttype'] = 42\n",
    "\n",
    "sns.set_style('white')"
   ]
  },
  {
   "cell_type": "code",
   "execution_count": 6,
   "id": "5a88122e",
   "metadata": {
    "ExecuteTime": {
     "end_time": "2025-07-09T05:15:48.419607Z",
     "start_time": "2025-07-09T05:15:44.661030Z"
    }
   },
   "outputs": [],
   "source": [
    "adata = sc.read_h5ad(\"result/scquint/dataset1.h5ad\")"
   ]
  },
  {
   "cell_type": "code",
   "execution_count": 7,
   "id": "110234e3",
   "metadata": {
    "ExecuteTime": {
     "end_time": "2025-07-09T05:15:48.428158Z",
     "start_time": "2025-07-09T05:15:48.421090Z"
    }
   },
   "outputs": [
    {
     "data": {
      "text/plain": [
       "(765, 252013)"
      ]
     },
     "execution_count": 7,
     "metadata": {},
     "output_type": "execute_result"
    }
   ],
   "source": [
    "# Read the cell type mapping table and convert it to a dictionary with cell_id as keys and cell_type as values\n",
    "cell_type_dict = pd.read_table('dataset1/srr_2_cell_type.txt', header=0)\n",
    "cell_type_dict = cell_type_dict.set_index('cell_id')['cell_type'].to_dict()\n",
    "\n",
    "# Filter cell IDs in adata that exist in the cell_type_dict keys\n",
    "cell_ids = [cell_id for cell_id in adata.obs_names if cell_id in cell_type_dict.keys()]\n",
    "\n",
    "# Subset adata to keep only the filtered cells and create a copy\n",
    "adata = adata[cell_ids, :].copy()\n",
    "\n",
    "# Add cell type annotation to adata.obs\n",
    "adata.obs['cell_type'] = [cell_type_dict[idx] for idx in adata.obs_names]\n",
    "\n",
    "# Duplicate the 'cell_type' column as 'cell.type' for convenience\n",
    "adata.obs['cell.type'] = adata.obs['cell_type']\n",
    "\n",
    "# Replace adata's expression matrix X with the Psi layer (percent spliced-in values)\n",
    "adata.X = adata.layers['Psi']"
   ]
  },
  {
   "cell_type": "code",
   "execution_count": 8,
   "id": "b3ec98e6",
   "metadata": {
    "ExecuteTime": {
     "end_time": "2025-07-09T05:15:50.004350Z",
     "start_time": "2025-07-09T05:15:48.428976Z"
    }
   },
   "outputs": [
    {
     "data": {
      "text/plain": [
       "(765, 252013)"
      ]
     },
     "execution_count": 8,
     "metadata": {},
     "output_type": "execute_result"
    }
   ],
   "source": [
    "adata.X = adata.layers['PSI_raw']\n",
    "data = adata.X.toarray() if hasattr(adata.X, \"toarray\") else adata.X.copy()\n",
    "nan_mask = np.isnan(data)\n",
    "\n",
    "np.random.seed(42)\n",
    "data[nan_mask] = np.random.uniform(0, 1, size=np.sum(nan_mask))\n",
    "adata.X = data\n",
    "adata.shape"
   ]
  },
  {
   "cell_type": "code",
   "execution_count": 9,
   "id": "1ff04d81",
   "metadata": {
    "ExecuteTime": {
     "end_time": "2025-07-09T05:15:50.007982Z",
     "start_time": "2025-07-09T05:15:50.005646Z"
    }
   },
   "outputs": [],
   "source": [
    "def get_predicted_type(adata):\n",
    "    obs = adata.obs\n",
    "    type_dict = {}\n",
    "    for leiden in adata.obs.leiden.cat.categories:\n",
    "        sub_obs =obs[obs['leiden'] == leiden]\n",
    "        major_cell_type = sub_obs['cell.type'].value_counts().idxmax()\n",
    "        type_dict[leiden] = major_cell_type\n",
    "    adata.obs['AS_cell_type'] = adata.obs['leiden'].astype(str)\n",
    "    adata.obs['AS_cell_type'] = adata.obs['AS_cell_type'].replace(type_dict)\n",
    "    return adata\n",
    "    \n",
    "def get_accuracy(adata):\n",
    "    adata = get_predicted_type(adata)\n",
    "    accuracy = accuracy_score(adata.obs['cell.type'], adata.obs['AS_cell_type'])\n",
    "    return accuracy"
   ]
  },
  {
   "cell_type": "code",
   "execution_count": 11,
   "id": "d7fc2e8c",
   "metadata": {
    "ExecuteTime": {
     "end_time": "2025-07-09T05:19:32.016437Z",
     "start_time": "2025-07-09T05:16:30.383884Z"
    }
   },
   "outputs": [
    {
     "name": "stderr",
     "output_type": "stream",
     "text": [
      "/home/jiangquanlong/miniconda3/envs/r_env/lib/python3.12/site-packages/scanpy/preprocessing/_highly_variable_genes.py:251: UserWarning: If you pass `n_top_genes`, all cutoffs are ignored.\n",
      "  warnings.warn(msg, UserWarning)\n",
      "/home/jiangquanlong/miniconda3/envs/r_env/lib/python3.12/site-packages/scanpy/preprocessing/_highly_variable_genes.py:251: UserWarning: If you pass `n_top_genes`, all cutoffs are ignored.\n",
      "  warnings.warn(msg, UserWarning)\n"
     ]
    },
    {
     "name": "stdout",
     "output_type": "stream",
     "text": [
      "    n_top_genes  n_neighbors  n_pcs  resolution  accuracy       ARI       NMI  \\\n",
      "428         all           15     20         0.8  0.934641  0.876533  0.908658   \n",
      "426         all           15     20         0.6  0.934641  0.876533  0.908658   \n",
      "391         all           10     20         0.7  0.935948  0.878427  0.909375   \n",
      "392         all           10     20         0.8  0.935948  0.878427  0.909375   \n",
      "390         all           10     20         0.6  0.935948  0.878427  0.909375   \n",
      "..          ...          ...    ...         ...       ...       ...       ...   \n",
      "103        2000           20     20         0.7  0.643137  0.585296  0.751766   \n",
      "102        2000           20     20         0.6  0.643137  0.585296  0.751766   \n",
      "176        2000           40     20         0.8  0.647059  0.592613  0.761107   \n",
      "174        2000           40     20         0.6  0.647059  0.592613  0.761107   \n",
      "66         2000           15     20         0.6  0.643137  0.585296  0.751766   \n",
      "\n",
      "     Silhouette       BCI  \n",
      "428    0.690773  0.852651  \n",
      "426    0.690773  0.852651  \n",
      "391    0.682233  0.851496  \n",
      "392    0.682233  0.851496  \n",
      "390    0.682233  0.851496  \n",
      "..          ...       ...  \n",
      "103    0.584687  0.641222  \n",
      "102    0.584687  0.641222  \n",
      "176    0.561700  0.640620  \n",
      "174    0.561700  0.640620  \n",
      "66     0.576405  0.639151  \n",
      "\n",
      "[540 rows x 9 columns]\n"
     ]
    }
   ],
   "source": [
    "tool = 'scQuint'\n",
    "results = []\n",
    "\n",
    "import pandas as pd\n",
    "from sklearn.metrics import adjusted_rand_score, normalized_mutual_info_score, silhouette_score, accuracy_score\n",
    "\n",
    "\n",
    "for n_genes in [2000,5000,'all']:\n",
    "    if n_genes == 'all':\n",
    "        ...\n",
    "    else:\n",
    "        sc.pp.highly_variable_genes(adata,min_mean=0.0, max_mean=10, min_disp=0.5,n_top_genes=n_genes)\n",
    "\n",
    "    if n_genes == 'all':\n",
    "        sc.tl.pca(adata, mask_var=None)\n",
    "    else:\n",
    "        sc.tl.pca(adata, mask_var=\"highly_variable\")\n",
    "\n",
    "    for nei in [10, 15, 20, 30, 40]:\n",
    "        for pc in [5, 7, 9, 10, 15, 20]:\n",
    "            sc.pp.neighbors(adata, n_neighbors=nei, n_pcs=pc)\n",
    "            sc.tl.umap(adata)\n",
    "            for res in [0.6, 0.7, 0.8, 0.9, 1, 1.1]:\n",
    "                sc.tl.leiden(adata, resolution=res, random_state=0, n_iterations=10, directed=False)\n",
    "                \n",
    "                accuracy = get_accuracy(adata)\n",
    "                true_labels = adata.obs[\"cell.type\"]\n",
    "                predicted_labels = adata.obs[\"AS_cell_type\"]\n",
    "                ari = adjusted_rand_score(true_labels, predicted_labels)\n",
    "                nmi = normalized_mutual_info_score(true_labels, predicted_labels)\n",
    "                umap_embedding = adata.obsm[\"X_umap\"]\n",
    "                silhouette = silhouette_score(umap_embedding, predicted_labels)\n",
    "                \n",
    "                # 计算 BCI（四个指标的均值）\n",
    "                bci = (accuracy + ari + nmi + silhouette) / 4\n",
    "                \n",
    "                results.append({\n",
    "                    'n_top_genes': n_genes,\n",
    "                    'n_neighbors': nei,\n",
    "                    'n_pcs': pc,\n",
    "                    'resolution': res,\n",
    "                    'accuracy': accuracy,\n",
    "                    'ARI': ari,\n",
    "                    'NMI': nmi,\n",
    "                    'Silhouette': silhouette,\n",
    "                    'BCI': bci\n",
    "                })\n",
    "\n",
    "accuracy_df = pd.DataFrame(results).sort_values(by='BCI', ascending=False)\n",
    "accuracy_df.to_csv('BCI_{}_.txt'.format(tool),sep='\\t')\n",
    "print(accuracy_df)"
   ]
  },
  {
   "cell_type": "code",
   "execution_count": 13,
   "id": "733882bd",
   "metadata": {},
   "outputs": [],
   "source": [
    "n_genes,n_neighbors,n_pcs,resolution ,accuracy = accuracy_df.iloc[0]\n",
    "if n_genes == 'all':\n",
    "        ...\n",
    "else:\n",
    "    sc.pp.highly_variable_genes(adata,min_mean=0.0, max_mean=10, min_disp=0.5,n_top_genes=n_genes)\n",
    "    \n",
    "if n_genes == 'all':\n",
    "    sc.tl.pca(adata, mask_var=None)\n",
    "else:\n",
    "    sc.tl.pca(adata, mask_var=\"highly_variable\")\n",
    "sc.pp.neighbors(adata, n_neighbors=int(n_neighbors), n_pcs=int(n_pcs))\n",
    "sc.tl.umap(adata,)\n",
    "sc.tl.leiden( adata, resolution=resolution, random_state=0,n_iterations=10, directed=False,) #聚类跟umap或是tsne都没关系\n",
    "adata = get_predicted_type(adata)"
   ]
  },
  {
   "cell_type": "code",
   "execution_count": 14,
   "id": "1fa14da8",
   "metadata": {
    "scrolled": false
   },
   "outputs": [
    {
     "data": {
      "image/png": "[encoded data removed]",
      "text/plain": [
       "<Figure size 600x600 with 1 Axes>"
      ]
     },
     "metadata": {},
     "output_type": "display_data"
    }
   ],
   "source": [
    "custom_palette = ['#3a7bae', '#e08b33', '#2d8270', '#c03737', '#a854e1', '#806051',\n",
    "                  '#d943bf', '#a9a853', '#1fa5b7', '#306ba1', '#ff9c33', '#3daf84',\n",
    "                  '#de4848', '#b553f0']\n",
    "\n",
    "title = '{}: {:.2}'.format(tool,accuracy)\n",
    "fo = \"umap_accuracy.{}.pdf\".format(tool)\n",
    "\n",
    "fig, ax = plt.subplots(figsize=(6, 6))\n",
    "# 绘制 UMAP 图\n",
    "sc.pl.umap(\n",
    "    adata,\n",
    "    color=\"cell.type\",  # 替换为你的分类变量\n",
    "    palette=custom_palette,\n",
    "    ax=ax,\n",
    "    show=False,\n",
    "    frameon=False, # 关闭默认边框\n",
    "    s = 50,title=title)\n",
    "\n",
    "# 获取当前轴范围\n",
    "xlim = ax.get_xlim()\n",
    "ylim = ax.get_ylim()\n",
    "\n",
    "# 参数设置\n",
    "border_length = 0.15  # 边框长度比例\n",
    "arrow_size = 0.03    # 箭头长度比例\n",
    "line_width = 1.5     # 线条粗细\n",
    "\n",
    "# 绘制短边框和箭头\n",
    "left_border_extension = 0.05  # 左边框向下延伸的比例\n",
    "bottom_border_extension = 0.05  # 下边框向左延伸的比例\n",
    "\n",
    "# 绘制短边框和箭头\n",
    "ax.plot([xlim[0], xlim[0]], [ylim[0] - left_border_extension * (ylim[1] - ylim[0]), ylim[0] + border_length * (ylim[1] - ylim[0])],\n",
    "        color=\"black\", lw=line_width, zorder=5)  # 左边框\n",
    "ax.plot([xlim[0] - bottom_border_extension * (xlim[1] - xlim[0]), xlim[0] + border_length * (xlim[1] - xlim[0])], [ylim[0], ylim[0]],\n",
    "        color=\"black\", lw=line_width, zorder=5)  # 下边框\n",
    "\n",
    "\n",
    "# 自动计算标签位置的代码\n",
    "x_offset_umap1 = border_length * (xlim[1] - xlim[0]) - 0.06 * (xlim[1] - xlim[0])  # 动态计算 UMAP 1 的水平偏移\n",
    "y_offset_umap1 = -0.05 * (ylim[1] - ylim[0])                                       # 动态计算 UMAP 1 的垂直偏移\n",
    "\n",
    "x_offset_umap2 = -0.02 * (xlim[1] - xlim[0])                                       # 动态计算 UMAP 2 的水平偏移\n",
    "y_offset_umap2 = border_length * (ylim[1] - ylim[0]) - 0.12 * (ylim[1] - ylim[0])  # 动态计算 UMAP 2 的垂直偏移\n",
    "\n",
    "# 添加 UMAP 1 标签\n",
    "ax.text(xlim[0] + x_offset_umap1,\n",
    "        ylim[0] + y_offset_umap1,\n",
    "        \"UMAP 1\", fontsize=12, color='black', ha='center')\n",
    "\n",
    "# 添加 UMAP 2 标签\n",
    "ax.text(xlim[0] + x_offset_umap2,\n",
    "        ylim[0] + y_offset_umap2,\n",
    "        \"UMAP 2\", fontsize=12, color='black', ha='center', rotation=90)\n",
    "\n",
    "# 隐藏刻度线和刻度标签\n",
    "ax.tick_params(left=False, bottom=False, labelleft=False, labelbottom=False)\n",
    "fig.savefig(fo, dpi=300, bbox_inches=\"tight\") \n",
    "plt.show()"
   ]
  },
  {
   "cell_type": "code",
   "execution_count": 14,
   "id": "8d2afd7c",
   "metadata": {},
   "outputs": [],
   "source": [
    "adata.write('ad.best_para.h5ad')"
   ]
  },
  {
   "cell_type": "code",
   "execution_count": 15,
   "id": "c8c4c3ea",
   "metadata": {},
   "outputs": [
    {
     "name": "stdout",
     "output_type": "stream",
     "text": [
      "Accuracy: 0.9516339869281045\n",
      "Adjusted Rand Index (ARI): 0.9005433712553297\n",
      "Normalized Mutual Information (NMI): 0.9169383490914201\n",
      "Silhouette Score: 0.6297284960746765\n",
      "cellASW: 0.5664676427841187\n",
      "predictASW: 0.6198112964630127\n",
      "clusterASW: 0.6264863610267639\n",
      "Davies-Bouldin Score: 0.6048298337722704\n",
      "Calinski-Harabasz Score: 4602.122547647649\n",
      "cLISI Score: 0.7608557754013245\n"
     ]
    },
    {
     "name": "stderr",
     "output_type": "stream",
     "text": [
      "/home/jiangquanlong/miniconda3/envs/r_env/lib/python3.12/site-packages/jupyter_client/session.py:203: DeprecationWarning: datetime.datetime.utcnow() is deprecated and scheduled for removal in a future version. Use timezone-aware objects to represent datetimes in UTC: datetime.datetime.now(datetime.UTC).\n",
      "  return datetime.utcnow().replace(tzinfo=utc)\n",
      "/home/jiangquanlong/miniconda3/envs/r_env/lib/python3.12/site-packages/jupyter_client/session.py:203: DeprecationWarning: datetime.datetime.utcnow() is deprecated and scheduled for removal in a future version. Use timezone-aware objects to represent datetimes in UTC: datetime.datetime.now(datetime.UTC).\n",
      "  return datetime.utcnow().replace(tzinfo=utc)\n"
     ]
    }
   ],
   "source": [
    "import pandas as pd\n",
    "import numpy as np\n",
    "from sklearn.metrics import adjusted_rand_score, normalized_mutual_info_score\n",
    "from sklearn.metrics import silhouette_score, silhouette_samples\n",
    "from sklearn.metrics import davies_bouldin_score, calinski_harabasz_score\n",
    "from sklearn.metrics import accuracy_score\n",
    "from sklearn.neighbors import NearestNeighbors\n",
    "from scipy.stats import entropy\n",
    "\n",
    "import scib\n",
    "\n",
    "# 获取数据\n",
    "umap_embedding = adata.obsm[\"X_umap\"]  # 获取 UMAP 坐标\n",
    "true_labels = adata.obs[\"cell.type\"]  # 如果有真实标签\n",
    "predicted_labels = adata.obs[\"AS_cell_type\"]  # 聚类结果\n",
    "cluster_labels = adata.obs['leiden']\n",
    "adata.obs['batch'] = ['batch1'] * adata.shape[0]\n",
    "\n",
    "def compute_cASW(umap_embedding, true_labels):\n",
    "    # 计算每个细胞的轮廓宽度\n",
    "    silhouette_values = silhouette_samples(umap_embedding, true_labels)\n",
    "\n",
    "    # 计算每个细胞类型的平均轮廓宽度\n",
    "    silhouette_df = pd.DataFrame({'cell_type': true_labels, 'silhouette_value': silhouette_values})\n",
    "    average_silhouette_per_type = silhouette_df.groupby('cell_type', observed=True)['silhouette_value'].mean()\n",
    "    mean_asw = average_silhouette_per_type.mean()\n",
    "    return mean_asw\n",
    "\n",
    "def compute_cLISI_custom(adata, label_key=\"cell.type\", embedding_key=\"X_umap\", k=30, max_val=5.0):\n",
    "    X = adata.obsm[embedding_key]\n",
    "    labels = adata.obs[label_key].values\n",
    "    n_cells = X.shape[0]\n",
    "    \n",
    "    nn = NearestNeighbors(n_neighbors=k+1).fit(X)  # +1 因为包括自己\n",
    "    neighbors = nn.kneighbors(X, return_distance=False)[:, 1:]  # 去掉自身\n",
    "\n",
    "    # Simpson Index for each cell\n",
    "    lisi_values = []\n",
    "    for i in range(n_cells):\n",
    "        neighbor_labels = labels[neighbors[i]]\n",
    "        freqs = pd.Series(neighbor_labels).value_counts(normalize=True)\n",
    "        simpson = (freqs**2).sum()  # Simpson Index\n",
    "        lisi = 1.0 / simpson  # LISI = 1 / Simpson\n",
    "        lisi_values.append(lisi)\n",
    "\n",
    "    lisi_values = np.array(lisi_values)\n",
    "    cLISI_raw = np.mean(lisi_values)\n",
    "    cLISI_transformed = 1 - np.clip(cLISI_raw / max_val, 0, 1)\n",
    "    return cLISI_transformed\n",
    "\n",
    "# 计算准确率（如果标签是分类标签）\n",
    "accuracy = accuracy_score(true_labels, predicted_labels)\n",
    "print(f\"Accuracy: {accuracy}\")\n",
    "\n",
    "# 计算 ARI\n",
    "ari = adjusted_rand_score(true_labels, predicted_labels)\n",
    "print(f\"Adjusted Rand Index (ARI): {ari}\")\n",
    "\n",
    "# 计算 NMI\n",
    "nmi = normalized_mutual_info_score(true_labels, predicted_labels)\n",
    "print(f\"Normalized Mutual Information (NMI): {nmi}\")\n",
    "\n",
    "# 计算轮廓系数\n",
    "silhouette = silhouette_score(umap_embedding, predicted_labels)\n",
    "print(f\"Silhouette Score: {silhouette}\")\n",
    "\n",
    "# 计算不同标签的 ASW\n",
    "cellASW = compute_cASW(umap_embedding, true_labels)\n",
    "print(f\"cellASW: {cellASW}\")  # average silhouette width based on cell type\n",
    "\n",
    "predictASW = compute_cASW(umap_embedding, predicted_labels)\n",
    "print(f\"predictASW: {predictASW}\")  # average silhouette width based on predicted type\n",
    "\n",
    "clusterASW = compute_cASW(umap_embedding, cluster_labels)\n",
    "print(f\"clusterASW: {clusterASW}\")  # average silhouette width based on cluster\n",
    "\n",
    "# 计算 Davies-Bouldin 和 Calinski-Harabasz 得分\n",
    "db_score = davies_bouldin_score(umap_embedding, predicted_labels)\n",
    "print(f\"Davies-Bouldin Score: {db_score}\")\n",
    "\n",
    "ch_score = calinski_harabasz_score(umap_embedding, predicted_labels)\n",
    "print(f\"Calinski-Harabasz Score: {ch_score}\")\n",
    "\n",
    "cLISI = compute_cLISI_custom(adata,label_key=\"cell.type\",embedding_key=\"X_umap\",)\n",
    "print(f\"cLISI Score: {cLISI}\")\n",
    "\n",
    "# 保存结果到文件\n",
    "output_file = 'Evaluation_score.txt'\n",
    "with open(output_file, 'w') as o:\n",
    "    o.write('Metric\\tScore\\n')  # 写入表头\n",
    "    o.write('Accuracy\\t' + str(accuracy) + '\\n')\n",
    "    o.write('Adjusted Rand Index (ARI)\\t' + str(ari) + '\\n')\n",
    "    o.write('Normalized Mutual Information (NMI)\\t' + str(nmi) + '\\n')\n",
    "    o.write('Silhouette Score\\t' + str(silhouette) + '\\n')\n",
    "    o.write('Cell Type ASW\\t' + str(cellASW) + '\\n')\n",
    "    o.write('Predicted Type ASW\\t' + str(predictASW) + '\\n')\n",
    "    o.write('Cluster ASW\\t' + str(clusterASW) + '\\n')\n",
    "    o.write('Davies-Bouldin Score\\t' + str(db_score) + '\\n')\n",
    "    o.write('Calinski-Harabasz Score\\t' + str(ch_score) + '\\n')\n",
    "    o.write('cLISI Score\\t' + str(cLISI) + '\\n')\n"
   ]
  },
  {
   "cell_type": "code",
   "execution_count": null,
   "id": "63057f15",
   "metadata": {},
   "outputs": [],
   "source": []
  }
 ],
 "metadata": {
  "kernelspec": {
   "display_name": "Python 3 (ipykernel)",
   "language": "python",
   "name": "python3"
  },
  "language_info": {
   "codemirror_mode": {
    "name": "ipython",
    "version": 3
   },
   "file_extension": ".py",
   "mimetype": "text/x-python",
   "name": "python",
   "nbconvert_exporter": "python",
   "pygments_lexer": "ipython3",
   "version": "3.12.3"
  }
 },
 "nbformat": 4,
 "nbformat_minor": 5
}
